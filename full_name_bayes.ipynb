{
 "cells": [
  {
   "cell_type": "code",
   "execution_count": 3,
   "metadata": {},
   "outputs": [
    {
     "name": "stderr",
     "output_type": "stream",
     "text": [
      "2023-09-16 16:45:02.842245: I tensorflow/core/platform/cpu_feature_guard.cc:193] This TensorFlow binary is optimized with oneAPI Deep Neural Network Library (oneDNN) to use the following CPU instructions in performance-critical operations:  SSE4.1 SSE4.2\n",
      "To enable them in other operations, rebuild TensorFlow with the appropriate compiler flags.\n"
     ]
    }
   ],
   "source": [
    "import numpy as np\n",
    "import tensorflow as tf\n",
    "from tensorflow import keras\n",
    "from tensorflow.keras import layers\n",
    "from sklearn.model_selection import train_test_split\n",
    "from sklearn.feature_extraction.text import CountVectorizer\n",
    "import pandas as pd\n",
    "\n",
    "max_features = 20000\n",
    "embedding_dim = 128\n",
    "sequence_length = 500"
   ]
  },
  {
   "cell_type": "markdown",
   "metadata": {},
   "source": [
    "# Read csv training data"
   ]
  },
  {
   "cell_type": "code",
   "execution_count": 4,
   "metadata": {},
   "outputs": [
    {
     "data": {
      "text/html": [
       "<div>\n",
       "<style scoped>\n",
       "    .dataframe tbody tr th:only-of-type {\n",
       "        vertical-align: middle;\n",
       "    }\n",
       "\n",
       "    .dataframe tbody tr th {\n",
       "        vertical-align: top;\n",
       "    }\n",
       "\n",
       "    .dataframe thead th {\n",
       "        text-align: right;\n",
       "    }\n",
       "</style>\n",
       "<table border=\"1\" class=\"dataframe\">\n",
       "  <thead>\n",
       "    <tr style=\"text-align: right;\">\n",
       "      <th></th>\n",
       "      <th>full_name</th>\n",
       "      <th>gender</th>\n",
       "    </tr>\n",
       "  </thead>\n",
       "  <tbody>\n",
       "    <tr>\n",
       "      <th>0</th>\n",
       "      <td>PHẠM THỊ YẾN NHI</td>\n",
       "      <td>female</td>\n",
       "    </tr>\n",
       "    <tr>\n",
       "      <th>1</th>\n",
       "      <td>NGUYỄN QUỐC KHA</td>\n",
       "      <td>male</td>\n",
       "    </tr>\n",
       "    <tr>\n",
       "      <th>2</th>\n",
       "      <td>NGUYỄN QUÝ</td>\n",
       "      <td>male</td>\n",
       "    </tr>\n",
       "    <tr>\n",
       "      <th>3</th>\n",
       "      <td>TRẦN QUANG THÀNH</td>\n",
       "      <td>male</td>\n",
       "    </tr>\n",
       "    <tr>\n",
       "      <th>4</th>\n",
       "      <td>ĐẶNG NHO TIẾN</td>\n",
       "      <td>male</td>\n",
       "    </tr>\n",
       "    <tr>\n",
       "      <th>...</th>\n",
       "      <td>...</td>\n",
       "      <td>...</td>\n",
       "    </tr>\n",
       "    <tr>\n",
       "      <th>3010</th>\n",
       "      <td>VÕ PHI YẾN</td>\n",
       "      <td>female</td>\n",
       "    </tr>\n",
       "    <tr>\n",
       "      <th>3011</th>\n",
       "      <td>MAI MINH VƯƠNG</td>\n",
       "      <td>male</td>\n",
       "    </tr>\n",
       "    <tr>\n",
       "      <th>3012</th>\n",
       "      <td>LÊ THANH BÌNH</td>\n",
       "      <td>male</td>\n",
       "    </tr>\n",
       "    <tr>\n",
       "      <th>3013</th>\n",
       "      <td>NGUYỄN THANH LÂM</td>\n",
       "      <td>male</td>\n",
       "    </tr>\n",
       "    <tr>\n",
       "      <th>3014</th>\n",
       "      <td>ĐỖ NGUYỄN THANH THÚY</td>\n",
       "      <td>female</td>\n",
       "    </tr>\n",
       "  </tbody>\n",
       "</table>\n",
       "<p>3015 rows × 2 columns</p>\n",
       "</div>"
      ],
      "text/plain": [
       "                 full_name  gender\n",
       "0         PHẠM THỊ YẾN NHI  female\n",
       "1          NGUYỄN QUỐC KHA    male\n",
       "2               NGUYỄN QUÝ    male\n",
       "3         TRẦN QUANG THÀNH    male\n",
       "4            ĐẶNG NHO TIẾN    male\n",
       "...                    ...     ...\n",
       "3010            VÕ PHI YẾN  female\n",
       "3011        MAI MINH VƯƠNG    male\n",
       "3012         LÊ THANH BÌNH    male\n",
       "3013      NGUYỄN THANH LÂM    male\n",
       "3014  ĐỖ NGUYỄN THANH THÚY  female\n",
       "\n",
       "[3015 rows x 2 columns]"
      ]
     },
     "execution_count": 4,
     "metadata": {},
     "output_type": "execute_result"
    }
   ],
   "source": [
    "df = pd.read_csv('./data/gender_data.csv')\n",
    "df"
   ]
  },
  {
   "cell_type": "code",
   "execution_count": 5,
   "metadata": {},
   "outputs": [
    {
     "data": {
      "text/plain": [
       "['PHẠM THỊ YẾN NHI',\n",
       " 'NGUYỄN QUỐC KHA',\n",
       " 'NGUYỄN QUÝ',\n",
       " 'TRẦN QUANG THÀNH',\n",
       " 'ĐẶNG NHO TIẾN',\n",
       " 'NGUYỄN XUÂN ĐÍNH',\n",
       " 'TRẦN THỊ PHƯƠNG HẠNH',\n",
       " 'PHAN TRUNG HÒA',\n",
       " 'CAO VĂN PHỤNG',\n",
       " 'BẠY BUỜ']"
      ]
     },
     "execution_count": 5,
     "metadata": {},
     "output_type": "execute_result"
    }
   ],
   "source": [
    "full_name_list = df['full_name'].to_list()\n",
    "full_name_list[0:10]"
   ]
  },
  {
   "cell_type": "markdown",
   "metadata": {},
   "source": [
    "# Train model"
   ]
  },
  {
   "cell_type": "code",
   "execution_count": 6,
   "metadata": {},
   "outputs": [
    {
     "data": {
      "text/plain": [
       "(3862,\n",
       " array(['an', 'an phúc', 'anh', 'anh cương', 'anh duy', 'anh hoàng',\n",
       "        'anh huy', 'anh hào', 'anh hòa', 'anh hùng', 'anh khang',\n",
       "        'anh khoa', 'anh kiệt', 'anh phong', 'anh quang', 'anh thi',\n",
       "        'anh thành', 'anh thái', 'anh thư', 'anh thằng', 'anh tuấn',\n",
       "        'anh tài', 'anh tú', 'anh vũ', 'anh xuân', 'anh đào', 'ba', 'bi',\n",
       "        'buờ', 'bàng', 'bàng thị', 'bành', 'bành ngôn', 'bá', 'bá cương',\n",
       "        'bá cường', 'bá dự', 'bá hiền', 'bá huỳnh', 'bá kiên', 'bá lộc',\n",
       "        'bá minh', 'bá ngọc', 'bá thiện', 'bá thành', 'bá thám',\n",
       "        'bá thông', 'bá thọ', 'bá tiền', 'bá trường', 'bá tình', 'bá việt',\n",
       "        'bá đặng', 'bách', 'bách thanh', 'bách tùng', 'báo', 'báo trang',\n",
       "        'bé', 'bé diêm', 'bé gái', 'bé hiền', 'bé hồng', 'bé liên',\n",
       "        'bé thoảng', 'bé thị', 'bé trúc', 'bé tư', 'bình', 'bình du',\n",
       "        'bình liêu', 'bình yên', 'bích', 'bích chi', 'bích huyền',\n",
       "        'bích huệ', 'bích hạnh', 'bích hồng', 'bích khôn', 'bích lan',\n",
       "        'bích liên', 'bích liếu', 'bích liễu', 'bích loan', 'bích ly',\n",
       "        'bích nghi', 'bích ngọc', 'bích như', 'bích phượng', 'bích quyên',\n",
       "        'bích thuyền', 'bích thuân', 'bích thuận', 'bích thuỳ', 'bích thy',\n",
       "        'bích thảo', 'bích thủy', 'bích trâm', 'bích tuyền', 'bích yến'],\n",
       "       dtype=object))"
      ]
     },
     "execution_count": 6,
     "metadata": {},
     "output_type": "execute_result"
    }
   ],
   "source": [
    "# Build vector\n",
    "bi_vector = CountVectorizer(ngram_range=(1, 2), \n",
    "                            analyzer='word', \n",
    "                            min_df=1, \n",
    "                            max_features=5000,\n",
    "                           lowercase=True)\n",
    "bi_vector.fit_transform(full_name_list).toarray()\n",
    "features = bi_vector.get_feature_names_out()\n",
    "\n",
    "len(features), features[0:100]"
   ]
  },
  {
   "cell_type": "code",
   "execution_count": 7,
   "metadata": {},
   "outputs": [
    {
     "data": {
      "text/plain": [
       "(2412, 603)"
      ]
     },
     "execution_count": 7,
     "metadata": {},
     "output_type": "execute_result"
    }
   ],
   "source": [
    "# Build features\n",
    "def gender_features(name, bi_vector, features):\n",
    "    t = bi_vector.transform([name]).toarray()\n",
    "    return dict(zip(features, t[0]))\n",
    "\n",
    "df['gender_feature'] = df.apply(lambda x: gender_features(x['full_name'], bi_vector, features), axis=1)\n",
    "\n",
    "# Split data\n",
    "df_train, df_test = train_test_split(df, random_state=0, test_size=.2)\n",
    "\n",
    "train_set = df_train.apply(lambda x: (x['gender_feature'], x['gender']), axis=1).to_list()\n",
    "test_set = df_test.apply(lambda x: (x['gender_feature'], x['gender']), axis=1).to_list()\n",
    "\n",
    "X_train, y_train = [x[0] for x in train_set], [x[1] for x in train_set]\n",
    "X_test, y_test = [x[0] for x in test_set], [x[1] for x in test_set]\n",
    "\n",
    "len(train_set), len(test_set)"
   ]
  },
  {
   "cell_type": "code",
   "execution_count": 8,
   "metadata": {},
   "outputs": [
    {
     "name": "stdout",
     "output_type": "stream",
     "text": [
      "0.986318407960199\n",
      "0.9469320066334992\n",
      "Most Informative Features\n",
      "                     thị = 1              female : male   =    336.9 : 1.0\n",
      "                  lê thị = 1              female : male   =     59.2 : 1.0\n",
      "                     văn = 1                male : female =     58.3 : 1.0\n",
      "                trần thị = 1              female : male   =     55.0 : 1.0\n",
      "                     thu = 1              female : male   =     38.2 : 1.0\n",
      "                   thành = 1                male : female =     30.1 : 1.0\n",
      "                      mỹ = 1              female : male   =     26.7 : 1.0\n",
      "                     kim = 1              female : male   =     23.5 : 1.0\n",
      "                   trung = 1                male : female =     21.9 : 1.0\n",
      "                     hữu = 1                male : female =     20.0 : 1.0\n",
      "female\n"
     ]
    }
   ],
   "source": [
    "import nltk\n",
    "\n",
    "# The training set is used to train a new \"naive Bayes\" classifier.\n",
    "classifier = nltk.NaiveBayesClassifier.train(train_set)\n",
    "\n",
    "# output should be 'male'\n",
    "print(nltk.classify.accuracy(classifier, train_set))\n",
    "print(nltk.classify.accuracy(classifier, test_set))\n",
    "classifier.show_most_informative_features(10)\n",
    "\n",
    "print(classifier.classify(gender_features('phan thị cẩm hồng', bi_vector, features)))"
   ]
  },
  {
   "cell_type": "code",
   "execution_count": 9,
   "metadata": {},
   "outputs": [
    {
     "name": "stdout",
     "output_type": "stream",
     "text": [
      "              precision    recall  f1-score   support\n",
      "\n",
      "      female       0.96      0.94      0.95       308\n",
      "        male       0.93      0.96      0.95       295\n",
      "\n",
      "    accuracy                           0.95       603\n",
      "   macro avg       0.95      0.95      0.95       603\n",
      "weighted avg       0.95      0.95      0.95       603\n",
      "\n",
      "[[288  20]\n",
      " [ 12 283]]\n"
     ]
    }
   ],
   "source": [
    "from sklearn.metrics import classification_report, confusion_matrix\n",
    "\n",
    "print(classification_report(y_test, classifier.classify_many(X_test)))\n",
    "print(confusion_matrix(y_test, classifier.classify_many(X_test)))"
   ]
  },
  {
   "cell_type": "code",
   "execution_count": 10,
   "metadata": {},
   "outputs": [
    {
     "data": {
      "image/png": "[encoded data removed]",
      "text/plain": [
       "<Figure size 432x288 with 1 Axes>"
      ]
     },
     "metadata": {
      "needs_background": "light"
     },
     "output_type": "display_data"
    }
   ],
   "source": [
    "import numpy as np\n",
    "from matplotlib import pyplot\n",
    "from sklearn import metrics\n",
    "\n",
    "yhat = classifier.prob_classify_many(X_test)\n",
    "yprob = [x.prob('female') for x in yhat]\n",
    "ydecode = [2 if x == 'female' else 1 for x in y_test]\n",
    "fpr, tpr, thresholds = metrics.roc_curve(ydecode, yprob, pos_label=2)\n",
    "\n",
    "# plot the roc curve for the model\n",
    "pyplot.plot([0,1], [0,1], linestyle='--', label='')\n",
    "pyplot.plot(fpr, tpr, marker='.', label='Female')\n",
    "\n",
    "# axis labels\n",
    "pyplot.xlabel('False Positive Rate')\n",
    "pyplot.ylabel('True Positive Rate')\n",
    "pyplot.legend()\n",
    "\n",
    "# show the plot\n",
    "pyplot.show()"
   ]
  },
  {
   "cell_type": "code",
   "execution_count": 20,
   "metadata": {},
   "outputs": [
    {
     "data": {
      "text/plain": [
       "0.9779661016949153"
      ]
     },
     "execution_count": 20,
     "metadata": {},
     "output_type": "execute_result"
    }
   ],
   "source": [
    "yhat = classifier.prob_classify_many(X_test)\n",
    "yprob = [x.prob('female') for x in yhat]\n",
    "ydecode = [1 if x == 'female' else 0 for x in y_test]\n",
    "x = metrics.roc_auc_score(ydecode, yprob)\n",
    "x"
   ]
  },
  {
   "cell_type": "markdown",
   "metadata": {},
   "source": [
    "# Improve accuracy by dropping lastname\n",
    "\n",
    "We drop the last name because we thought last name will not affect the gender"
   ]
  },
  {
   "cell_type": "code",
   "execution_count": 36,
   "metadata": {},
   "outputs": [
    {
     "data": {
      "text/plain": [
       "['THỊ YẾN NHI', 'QUỐC KHA', 'QUÝ', 'QUANG THÀNH', 'NHO TIẾN']"
      ]
     },
     "execution_count": 36,
     "metadata": {},
     "output_type": "execute_result"
    }
   ],
   "source": [
    "full_name_list = df['full_name'].to_list()\n",
    "last_name_list = [x.split(' ')[0] for x in full_name_list]\n",
    "middle_first_name_list = [\" \".join(x.split(' ')[1:]) for x in full_name_list]\n",
    "middle_first_name_list[0:5]"
   ]
  },
  {
   "cell_type": "code",
   "execution_count": 37,
   "metadata": {},
   "outputs": [
    {
     "data": {
      "text/plain": [
       "array(['an', 'an phúc', 'anh', ..., 'ạnh', 'ạnh tú', 'ẩn'], dtype=object)"
      ]
     },
     "execution_count": 37,
     "metadata": {},
     "output_type": "execute_result"
    }
   ],
   "source": [
    "# Build vector with middle and first name\n",
    "bi_vector = CountVectorizer(ngram_range=(1, 2), \n",
    "                            analyzer='word', \n",
    "                            min_df=1, \n",
    "                            max_features=5000,\n",
    "                           lowercase=True)\n",
    "bi_vector.fit_transform(middle_first_name_list).toarray()\n",
    "features = bi_vector.get_feature_names_out()\n",
    "features"
   ]
  },
  {
   "cell_type": "code",
   "execution_count": 56,
   "metadata": {},
   "outputs": [
    {
     "data": {
      "text/plain": [
       "(2412, 603)"
      ]
     },
     "execution_count": 56,
     "metadata": {},
     "output_type": "execute_result"
    }
   ],
   "source": [
    "def gender_features(name, bi_vector, features):\n",
    "    \n",
    "    # Split last name and middle and first name\n",
    "    last_name = name.split(' ')[0]\n",
    "    middle_first_name = \" \".join(name.split(' ')[1:])\n",
    "    \n",
    "    t = bi_vector.transform([middle_first_name]).toarray()\n",
    "    return dict(zip(features, t[0]))\n",
    "\n",
    "df['gender_feature'] = df.apply(lambda x: gender_features(x['full_name'], bi_vector, features), axis=1)\n",
    "\n",
    "# Split data\n",
    "df_train, df_test = train_test_split(df, random_state=0, test_size=.2)\n",
    "\n",
    "# train_set = df_train.apply(lambda x: (x['gender_feature'], x['gender']), axis=1).to_list()\n",
    "# test_set = df_test.apply(lambda x: (x['gender_feature'], x['gender']), axis=1).to_list()\n",
    "\n",
    "# X_train, y_train = [x[0] for x in train_set], [x[1] for x in train_set]\n",
    "# X_test, y_test = [x[0] for x in test_set], [x[1] for x in test_set]\n",
    "\n",
    "X_train, y_train = df_train['gender_feature'].to_list(), df_train['gender'].to_list()\n",
    "X_test, y_test = df_test['gender_feature'].to_list(), df_test['gender'].to_list()\n",
    "\n",
    "len(train_set), len(test_set)"
   ]
  },
  {
   "cell_type": "code",
   "execution_count": 57,
   "metadata": {},
   "outputs": [
    {
     "name": "stdout",
     "output_type": "stream",
     "text": [
      "0.9821724709784412\n",
      "0.9469320066334992\n",
      "Most Informative Features\n",
      "                     thị = 1              female : male   =    335.7 : 1.0\n",
      "                     văn = 1                male : female =    136.1 : 1.0\n",
      "                     thu = 1              female : male   =     38.2 : 1.0\n",
      "                   thành = 1                male : female =     30.1 : 1.0\n",
      "                      mỹ = 1              female : male   =     26.7 : 1.0\n",
      "                     kim = 1              female : male   =     23.2 : 1.0\n",
      "                   trung = 1                male : female =     21.9 : 1.0\n",
      "                     hữu = 1                male : female =     20.0 : 1.0\n",
      "                     mai = 1              female : male   =     17.0 : 1.0\n",
      "                     cẩm = 1              female : male   =     16.5 : 1.0\n",
      "female\n"
     ]
    }
   ],
   "source": [
    "import nltk\n",
    "\n",
    "# The training set is used to train a new \"naive Bayes\" classifier.\n",
    "classifier = nltk.NaiveBayesClassifier.train(train_set)\n",
    "\n",
    "# output should be 'male'\n",
    "print(nltk.classify.accuracy(classifier, train_set))\n",
    "print(nltk.classify.accuracy(classifier, test_set))\n",
    "classifier.show_most_informative_features(10)\n",
    "\n",
    "print(classifier.classify(gender_features('phan thị cẩm hồng', bi_vector, features)))"
   ]
  },
  {
   "cell_type": "code",
   "execution_count": 58,
   "metadata": {},
   "outputs": [
    {
     "name": "stderr",
     "output_type": "stream",
     "text": [
      "/Users/truong.vu.1/opt/anaconda3/envs/general/lib/python3.8/site-packages/sklearn/metrics/_ranking.py:1016: UndefinedMetricWarning: No positive samples in y_true, true positive value should be meaningless\n",
      "  warnings.warn(\n"
     ]
    },
    {
     "data": {
      "image/png": "[encoded data removed]",
      "text/plain": [
       "<Figure size 432x288 with 1 Axes>"
      ]
     },
     "metadata": {
      "needs_background": "light"
     },
     "output_type": "display_data"
    }
   ],
   "source": [
    "import numpy as np\n",
    "from matplotlib import pyplot\n",
    "from sklearn import metrics\n",
    "\n",
    "yhat = classifier.prob_classify_many(X_test)\n",
    "yprob = [x.prob('female') for x in yhat]\n",
    "ydecode = [0 if x == 'female' else 1 for x in y_test]\n",
    "fpr, tpr, thresholds = metrics.roc_curve(ydecode, yprob, pos_label=2)\n",
    "\n",
    "# plot the roc curve for the model\n",
    "pyplot.plot([0,1], [0,1], linestyle='--', label='')\n",
    "pyplot.plot(fpr, tpr, marker='.', label='Female')\n",
    "\n",
    "# axis labels\n",
    "pyplot.xlabel('False Positive Rate')\n",
    "pyplot.ylabel('True Positive Rate')\n",
    "pyplot.legend()\n",
    "\n",
    "# show the plot\n",
    "pyplot.show()"
   ]
  },
  {
   "cell_type": "code",
   "execution_count": 59,
   "metadata": {},
   "outputs": [
    {
     "data": {
      "text/plain": [
       "0.9774158045344485"
      ]
     },
     "execution_count": 59,
     "metadata": {},
     "output_type": "execute_result"
    }
   ],
   "source": [
    "yhat = classifier.prob_classify_many(X_test)\n",
    "yprob = [x.prob('female') for x in yhat]\n",
    "ydecode = [1 if x == 'female' else 0 for x in y_test]\n",
    "x = metrics.roc_auc_score(ydecode, yprob)\n",
    "x"
   ]
  },
  {
   "cell_type": "markdown",
   "metadata": {},
   "source": [
    "The AUC with dropping the last name is not higher than without lastname. However, we still think dropping last name is better in case we do not have large samples of name to train and reduce the noise of model."
   ]
  },
  {
   "cell_type": "markdown",
   "metadata": {},
   "source": [
    "# Test with new data"
   ]
  },
  {
   "cell_type": "code",
   "execution_count": 60,
   "metadata": {},
   "outputs": [
    {
     "data": {
      "text/html": [
       "<div>\n",
       "<style scoped>\n",
       "    .dataframe tbody tr th:only-of-type {\n",
       "        vertical-align: middle;\n",
       "    }\n",
       "\n",
       "    .dataframe tbody tr th {\n",
       "        vertical-align: top;\n",
       "    }\n",
       "\n",
       "    .dataframe thead th {\n",
       "        text-align: right;\n",
       "    }\n",
       "</style>\n",
       "<table border=\"1\" class=\"dataframe\">\n",
       "  <thead>\n",
       "    <tr style=\"text-align: right;\">\n",
       "      <th></th>\n",
       "      <th>full_name</th>\n",
       "      <th>gender</th>\n",
       "    </tr>\n",
       "  </thead>\n",
       "  <tbody>\n",
       "    <tr>\n",
       "      <th>0</th>\n",
       "      <td>Trương Huỳnh Xuân An</td>\n",
       "      <td>male</td>\n",
       "    </tr>\n",
       "    <tr>\n",
       "      <th>1</th>\n",
       "      <td>Đỗ Nguyễn Quốc Anh</td>\n",
       "      <td>male</td>\n",
       "    </tr>\n",
       "    <tr>\n",
       "      <th>2</th>\n",
       "      <td>Hoàng Ngọc Trâm Anh</td>\n",
       "      <td>female</td>\n",
       "    </tr>\n",
       "    <tr>\n",
       "      <th>3</th>\n",
       "      <td>Lê Ngọc Tuyết Anh</td>\n",
       "      <td>female</td>\n",
       "    </tr>\n",
       "    <tr>\n",
       "      <th>4</th>\n",
       "      <td>Phan Thị Tú Anh</td>\n",
       "      <td>female</td>\n",
       "    </tr>\n",
       "    <tr>\n",
       "      <th>...</th>\n",
       "      <td>...</td>\n",
       "      <td>...</td>\n",
       "    </tr>\n",
       "    <tr>\n",
       "      <th>1623</th>\n",
       "      <td>Phạm Duy Mạnh</td>\n",
       "      <td>male</td>\n",
       "    </tr>\n",
       "    <tr>\n",
       "      <th>1624</th>\n",
       "      <td>Hoàng Hoài male</td>\n",
       "      <td>male</td>\n",
       "    </tr>\n",
       "    <tr>\n",
       "      <th>1625</th>\n",
       "      <td>Trịnh Nhật Bách</td>\n",
       "      <td>male</td>\n",
       "    </tr>\n",
       "    <tr>\n",
       "      <th>1626</th>\n",
       "      <td>Bùi Đức Cường</td>\n",
       "      <td>male</td>\n",
       "    </tr>\n",
       "    <tr>\n",
       "      <th>1627</th>\n",
       "      <td>Đào THị Phương Thảo</td>\n",
       "      <td>female</td>\n",
       "    </tr>\n",
       "  </tbody>\n",
       "</table>\n",
       "<p>1628 rows × 2 columns</p>\n",
       "</div>"
      ],
      "text/plain": [
       "                 full_name  gender\n",
       "0     Trương Huỳnh Xuân An    male\n",
       "1       Đỗ Nguyễn Quốc Anh    male\n",
       "2      Hoàng Ngọc Trâm Anh  female\n",
       "3        Lê Ngọc Tuyết Anh  female\n",
       "4          Phan Thị Tú Anh  female\n",
       "...                    ...     ...\n",
       "1623         Phạm Duy Mạnh    male\n",
       "1624       Hoàng Hoài male    male\n",
       "1625       Trịnh Nhật Bách    male\n",
       "1626         Bùi Đức Cường    male\n",
       "1627   Đào THị Phương Thảo  female\n",
       "\n",
       "[1628 rows x 2 columns]"
      ]
     },
     "execution_count": 60,
     "metadata": {},
     "output_type": "execute_result"
    }
   ],
   "source": [
    "df_test_new = pd.read_csv('./data/gender_data_2.csv')\n",
    "df_test_new"
   ]
  },
  {
   "cell_type": "code",
   "execution_count": 43,
   "metadata": {},
   "outputs": [],
   "source": [
    "df_test_new['gender_feature'] = df_test_new.apply(lambda x: gender_features(x['full_name'], \n",
    "                                                                            bi_vector, features), \n",
    "                                                  axis=1)\n",
    "\n",
    "train_set = df_train.apply(lambda x: (x['gender_feature'], x['gender']), axis=1).to_list()\n",
    "test_set = df_test.apply(lambda x: (x['gender_feature'], x['gender']), axis=1).to_list()\n",
    "\n",
    "X_train, y_train = [x[0] for x in train_set], [x[1] for x in train_set]\n",
    "X_test, y_test = [x[0] for x in test_set], [x[1] for x in test_set]\n",
    "\n",
    "X_test = df_test_new['gender_feature'].to_list()"
   ]
  },
  {
   "cell_type": "code",
   "execution_count": 61,
   "metadata": {},
   "outputs": [],
   "source": [
    "df_test_new['gender_feature'] = df_test_new.apply(lambda x: gender_features(x['full_name'], \n",
    "                                                                            bi_vector, features), \n",
    "                                                  axis=1)\n",
    "X_test_new, y_test_new = df_test_new['gender_feature'].to_list(), df_test_new['gender'].to_list()"
   ]
  },
  {
   "cell_type": "code",
   "execution_count": 62,
   "metadata": {},
   "outputs": [
    {
     "data": {
      "text/plain": [
       "0.9788161073622187"
      ]
     },
     "execution_count": 62,
     "metadata": {},
     "output_type": "execute_result"
    }
   ],
   "source": [
    "yhat = classifier.prob_classify_many(X_test_new)\n",
    "yprob = [x.prob('female') for x in yhat]\n",
    "ydecode = [1 if x == 'female' else 0 for x in y_test_new]\n",
    "x = metrics.roc_auc_score(ydecode, yprob)\n",
    "x"
   ]
  },
  {
   "cell_type": "markdown",
   "metadata": {},
   "source": [
    "# Backup"
   ]
  },
  {
   "cell_type": "code",
   "execution_count": 81,
   "metadata": {},
   "outputs": [],
   "source": [
    "# import numpy as np\n",
    "# import matplotlib.pyplot as plt\n",
    "\n",
    "# # Predict\n",
    "# predict = classifier.classify_many(X_test)\n",
    "\n",
    "# def match_predict(test, predict):\n",
    "#     if predict == 'female' and test == predict:\n",
    "#         return 1\n",
    "#     elif predict == 'male' and test == predict:\n",
    "#         return 2\n",
    "#     elif predict == 'female' and test != predict:\n",
    "#         return 3\n",
    "#     elif predict == 'male' and test != predict:\n",
    "#         return 4\n",
    "\n",
    "# # Match\n",
    "# match = [match_predict(v, predict[i])  for i, v in enumerate(y_test)]\n",
    "\n",
    "# # Probability\n",
    "# yhat = classifier.prob_classify_many(X_test)\n",
    "# yprob = [x.prob('female') for x in yhat]\n",
    "\n",
    "# xf1 = [yprob[i]  for i, v in enumerate(match) if v == 1]\n",
    "# xm1 = [1 - yprob[i]  for i, v in enumerate(match) if v == 2]\n",
    "# xf2 = [yprob[i]  for i, v in enumerate(match) if v == 3]\n",
    "# xm2 = [1 - yprob[i]  for i, v in enumerate(match) if v == 4]"
   ]
  },
  {
   "cell_type": "code",
   "execution_count": 82,
   "metadata": {},
   "outputs": [],
   "source": [
    "# # Plot\n",
    "# kwargs = dict(alpha=0.5, bins=50)\n",
    "# plt.hist(xf1, **kwargs, color='g', label='Female - Successful')\n",
    "# plt.hist(xm1, **kwargs, color='g', label='Male - Successful')\n",
    "# plt.hist(xf2, **kwargs, color='r', label='Female - Failed')\n",
    "# plt.hist(xm2, **kwargs, color='b', label='Male - Failed')\n",
    "# plt.gca().set(title='Frequency Histogram of probability distribution', ylabel='Frequency')\n",
    "# #plt.xlim(50,75)\n",
    "# plt.ylim(0,20)\n",
    "# plt.legend();"
   ]
  },
  {
   "cell_type": "code",
   "execution_count": 83,
   "metadata": {},
   "outputs": [],
   "source": [
    "# # thresholds \n",
    "# thresholds_male = [0.8, 0.85, 0.9, 0.95]\n",
    "# thresholds_female = [0.8, 0.85, 0.9, 0.95]\n",
    "\n",
    "# def calculate_accuracy(t_male, t_female, xf1, xm1, xf2, xm2):\n",
    "#     xf1_t = [t for t in xf1 if t > t_female]\n",
    "#     xf2_t = [t for t in xf2 if t > t_female]\n",
    "#     xm1_t = [t for t in xm1 if t > t_male]\n",
    "#     xm2_t = [t for t in xm2 if t > t_male]\n",
    "    \n",
    "#     return ((len(xf1_t) + len(xm1_t)) / (len(xf1_t) + len(xm1_t) + len(xf2_t) + len(xm2_t)), \n",
    "#             (len(xf1_t) + len(xm1_t) + len(xf2_t) + len(xm2_t)), \n",
    "#             (len(xf1_t) + len(xm1_t) + len(xf2_t) + len(xm2_t)) / (len(xf1) + len(xm1) + len(xf2) + len(xm2)))\n",
    "\n",
    "\n",
    "# tbl_accuracy = [(im, ifm, calculate_accuracy(im, ifm, xf1, xm1, xf2, xm2)) for im in thresholds_male for ifm in thresholds_female]\n",
    "# tbl_accuracy"
   ]
  },
  {
   "cell_type": "code",
   "execution_count": 84,
   "metadata": {},
   "outputs": [],
   "source": [
    "# import numpy as np\n",
    "# import matplotlib.pyplot as plt\n",
    "\n",
    "# x = [kt[2][0] for kt in tbl_accuracy]\n",
    "# y = [kt[2][1] for kt in tbl_accuracy]\n",
    "\n",
    "# #fig, ax = plt.subplots()\n",
    "# plt.scatter(x, y)\n",
    "# ax = plt.gca()\n",
    "# for i, kt in enumerate(tbl_accuracy):\n",
    "#     ax.annotate(str(kt[0]) + ',' + str(kt[1]), (x[i], y[i]))\n",
    "    \n",
    "# plt.show()"
   ]
  },
  {
   "cell_type": "code",
   "execution_count": null,
   "metadata": {},
   "outputs": [],
   "source": []
  },
  {
   "cell_type": "code",
   "execution_count": null,
   "metadata": {},
   "outputs": [],
   "source": []
  },
  {
   "cell_type": "code",
   "execution_count": null,
   "metadata": {},
   "outputs": [],
   "source": []
  },
  {
   "cell_type": "code",
   "execution_count": null,
   "metadata": {},
   "outputs": [],
   "source": []
  }
 ],
 "metadata": {
  "kernelspec": {
   "display_name": "Python 3 (ipykernel)",
   "language": "python",
   "name": "python3"
  },
  "language_info": {
   "codemirror_mode": {
    "name": "ipython",
    "version": 3
   },
   "file_extension": ".py",
   "mimetype": "text/x-python",
   "name": "python",
   "nbconvert_exporter": "python",
   "pygments_lexer": "ipython3",
   "version": "3.8.11"
  }
 },
 "nbformat": 4,
 "nbformat_minor": 4
}
